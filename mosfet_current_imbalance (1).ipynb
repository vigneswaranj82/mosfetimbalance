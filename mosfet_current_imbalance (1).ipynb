{
 "cells": [
  {
   "cell_type": "code",
   "execution_count": null,
   "metadata": {},
   "outputs": [],
   "source": [
    "# Plot Mosfet current imbalance\n",
    "import numpy as np\n",
    "import matplotlib.pyplot as plt\n",
    "\n",
    "\n",
    "#for x = ID1\n",
    "# Co-efficient \n",
    "#C3 = (1/IB)**3\n",
    "#C2 = -(N+1)*(1/IB)**2\n",
    "#C1 = (N - (((N-1)/N)*(N-1+(R2_25/R1_25))*(1/(DT2JA*K)))*(1/IB))\n",
    "#C0 = ((N-1)*(DT2JA * K * (R2_25/R1_25)))\n",
    "#coeff = [C3, C2, C1, C0]\n",
    "#imbalance_current = np.poly1d(coeff)\n",
    "#print (imbalance_current(3))\n"
   ]
  },
  {
   "cell_type": "code",
   "execution_count": null,
   "metadata": {},
   "outputs": [],
   "source": [
    "#System variables and values\n",
    "\n",
    "#Number of Mosfet\n",
    "N = 2\n",
    "#Balance current\n",
    "IB = 82\n",
    "#R2−25 = 3.3mΩRDS−ON for MOSFET 2 at250C\n",
    "R2_25 = 3.3\n",
    "#R1−25 = 4.1mΩRDS−ON for MOSFET 1 at250C\n",
    "R1_25 = 4.1\n",
    "#θJA = 3.50C/W junction to ambient thermal resistance\n",
    "Theta_JA = 3.5\n",
    "#K = 0.00644per unit change inRDS−ON/0C\n",
    "K = 0.00644\n",
    "#δT2JA = R2−25IB2 θJAK\n",
    "DT2JA = R2_25 * (IB**2) * Theta_JA * K"
   ]
  },
  {
   "cell_type": "code",
   "execution_count": 3,
   "metadata": {},
   "outputs": [
    {
     "name": "stdout",
     "output_type": "stream",
     "text": [
      "A =  1\n",
      "B =  -3\n",
      "C =  1.7198204434154514\n",
      "D =  2.59245667296\n"
     ]
    }
   ],
   "source": [
    "#co-efficient calculation\n",
    "A = 1\n",
    "B = -(N+1)\n",
    "C = (N - (((N-1)/N)*(N-1+(R2_25/R1_25))*(1/(DT2JA*K))))\n",
    "D = ((N-1)*(DT2JA * K * (R2_25/R1_25)))\n",
    "print(\"A = \", A)\n",
    "print(\"B = \", B)\n",
    "print(\"C = \", C)\n",
    "print(\"D = \", D)"
   ]
  },
  {
   "cell_type": "code",
   "execution_count": 4,
   "metadata": {},
   "outputs": [
    {
     "data": {
      "text/plain": [
       "[<matplotlib.lines.Line2D at 0x1fb6700c808>]"
      ]
     },
     "execution_count": 4,
     "metadata": {},
     "output_type": "execute_result"
    },
    {
     "data": {
      "image/png": "[encoded data removed]",
      "text/plain": [
       "<Figure size 432x288 with 1 Axes>"
      ]
     },
     "metadata": {
      "needs_background": "light"
     },
     "output_type": "display_data"
    }
   ],
   "source": [
    "#Solving polynomial equation for a given range of values\n",
    "#x = (ID1/IB)\n",
    "#p(x) = Ax^3 + Bx^2 + Cx^1 + x + D \n",
    "coeff = [A, B, C, D]\n",
    "imbalance_current = np.poly1d(coeff)\n",
    "\n",
    "#Start, Stop, Interval\n",
    "#x= (ID1/IB)\n",
    "x = np.linspace(0, 5, 100, endpoint=True)\n",
    "y = imbalance_current(x)\n",
    "plt.plot(x, y)"
   ]
  },
  {
   "cell_type": "code",
   "execution_count": null,
   "metadata": {},
   "outputs": [],
   "source": []
  }
 ],
 "metadata": {
  "kernelspec": {
   "display_name": "Python 3",
   "language": "python",
   "name": "python3"
  },
  "language_info": {
   "codemirror_mode": {
    "name": "ipython",
    "version": 3
   },
   "file_extension": ".py",
   "mimetype": "text/x-python",
   "name": "python",
   "nbconvert_exporter": "python",
   "pygments_lexer": "ipython3",
   "version": "3.7.6"
  }
 },
 "nbformat": 4,
 "nbformat_minor": 4
}
